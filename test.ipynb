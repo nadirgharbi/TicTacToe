{
 "cells": [
  {
   "cell_type": "code",
   "execution_count": 1,
   "metadata": {},
   "outputs": [
    {
     "name": "stdout",
     "output_type": "stream",
     "text": [
      "pygame-ce 2.2.1 (SDL 2.26.4, Python 3.11.3)\n"
     ]
    },
    {
     "ename": "SystemExit",
     "evalue": "",
     "output_type": "error",
     "traceback": [
      "An exception has occurred, use %tb to see the full traceback.\n",
      "\u001b[1;31mSystemExit\u001b[0m\n"
     ]
    },
    {
     "name": "stderr",
     "output_type": "stream",
     "text": [
      "C:\\Users\\nadir\\AppData\\Roaming\\Python\\Python311\\site-packages\\IPython\\core\\interactiveshell.py:3516: UserWarning: To exit: use 'exit', 'quit', or Ctrl-D.\n",
      "  warn(\"To exit: use 'exit', 'quit', or Ctrl-D.\", stacklevel=1)\n"
     ]
    }
   ],
   "source": [
    "import pygame\n",
    "import pygame_gui\n",
    "import sys\n",
    "\n",
    "pygame.init()\n",
    "\n",
    "WIDTH, HEIGHT = 1600, 900\n",
    "SCREEN = pygame.display.set_mode((WIDTH, HEIGHT))\n",
    "pygame.display.set_caption(\"Text Input in PyGame | BaralTech\")\n",
    "\n",
    "manager = pygame_gui.UIManager((1600, 900))\n",
    "\n",
    "text_input = pygame_gui.elements.UITextEntryLine(relative_rect=pygame.Rect((350, 275), (900, 50)), manager=manager,\n",
    "                                               object_id='#main_text_entry')\n",
    "\n",
    "clock = pygame.time.Clock()\n",
    "\n",
    "def show_user_name(user_name):\n",
    "    while True:\n",
    "        for event in pygame.event.get():\n",
    "            if event.type == pygame.QUIT:\n",
    "                pygame.quit()\n",
    "                sys.exit()\n",
    "\n",
    "        SCREEN.fill(\"white\")\n",
    "\n",
    "        new_text = pygame.font.SysFont(\"bahnschrift\", 100).render(f\"Hello, {user_name}\", True, \"black\")\n",
    "        new_text_rect = new_text.get_rect(center=(WIDTH/2, HEIGHT/2))\n",
    "        SCREEN.blit(new_text, new_text_rect)\n",
    "\n",
    "        clock.tick(60)\n",
    "\n",
    "        pygame.display.update()\n",
    "\n",
    "def get_user_name():\n",
    "    while True:\n",
    "        UI_REFRESH_RATE = clock.tick(60)/1000\n",
    "        for event in pygame.event.get():\n",
    "            if event.type == pygame.QUIT:\n",
    "                pygame.quit()\n",
    "                sys.exit()\n",
    "            if (event.type == pygame_gui.UI_TEXT_ENTRY_FINISHED and\n",
    "                event.ui_object_id == '#main_text_entry'):\n",
    "                show_user_name(event.text)\n",
    "            \n",
    "            manager.process_events(event)\n",
    "        \n",
    "        manager.update(UI_REFRESH_RATE)\n",
    "\n",
    "        SCREEN.fill(\"white\")\n",
    "\n",
    "        manager.draw_ui(SCREEN)\n",
    "\n",
    "        pygame.display.update()\n",
    "    \n",
    "\n",
    "get_user_name()"
   ]
  }
 ],
 "metadata": {
  "kernelspec": {
   "display_name": "Python 3",
   "language": "python",
   "name": "python3"
  },
  "language_info": {
   "codemirror_mode": {
    "name": "ipython",
    "version": 3
   },
   "file_extension": ".py",
   "mimetype": "text/x-python",
   "name": "python",
   "nbconvert_exporter": "python",
   "pygments_lexer": "ipython3",
   "version": "3.11.3"
  },
  "orig_nbformat": 4
 },
 "nbformat": 4,
 "nbformat_minor": 2
}
